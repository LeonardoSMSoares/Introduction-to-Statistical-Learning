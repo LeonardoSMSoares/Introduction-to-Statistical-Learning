{
 "cells": [
  {
   "cell_type": "markdown",
   "id": "e9f6f129-d74f-4802-9454-10e6ae81159e",
   "metadata": {},
   "source": [
    "# Chapter 6 - Linear Model Selection and Regularization"
   ]
  },
  {
   "cell_type": "markdown",
   "id": "ce42e3b3-cb9b-452b-a7f4-2485736e9bd8",
   "metadata": {},
   "source": [
    "### 6.5.1 Subset Selection Methods\n",
    "Here we implement methods that reduce the number of parameters in a\r\n",
    "model by restricting the model to a subset of the input variables."
   ]
  },
  {
   "cell_type": "code",
   "execution_count": 1,
   "id": "ba805ba1-e7f0-4527-a3f9-cc324635b0f3",
   "metadata": {},
   "outputs": [],
   "source": [
    "#!pip install ISLP\n",
    "#!pip install l0bnb"
   ]
  },
  {
   "cell_type": "code",
   "execution_count": 2,
   "id": "6dc08b48-9220-40ca-a8bc-3d13e7e21718",
   "metadata": {},
   "outputs": [],
   "source": [
    "import numpy as np\n",
    "import pandas as pd\n",
    "from matplotlib.pyplot import subplots\n",
    "from statsmodels.api import OLS\n",
    "import sklearn.model_selection as skm\n",
    "import sklearn.linear_model as skl\n",
    "from sklearn.preprocessing import StandardScaler\n",
    "from ISLP import load_data\n",
    "from ISLP.models import ModelSpec as MS\n",
    "from functools import partial"
   ]
  },
  {
   "cell_type": "code",
   "execution_count": 3,
   "id": "6dcd8dbc-5d74-4ef4-977f-9ddebfce1c60",
   "metadata": {},
   "outputs": [],
   "source": [
    "from sklearn.pipeline import Pipeline\n",
    "from sklearn.decomposition import PCA\n",
    "\n",
    "from sklearn.cross_decomposition import PLSRegression\n",
    "from ISLP.models import (Stepwise, sklearn_selected, sklearn_selection_path)\n",
    "\n",
    "from l0bnb import fit_path"
   ]
  },
  {
   "cell_type": "code",
   "execution_count": 35,
   "id": "cf85239b-5d91-42bd-acaa-4266035948a6",
   "metadata": {},
   "outputs": [],
   "source": [
    "import warnings\n",
    "warnings.filterwarnings(\"ignore\")"
   ]
  },
  {
   "cell_type": "markdown",
   "id": "9d0dcbbf-1a8e-4bc9-8643-61a606a0328f",
   "metadata": {},
   "source": [
    "#### Forward Selection\n",
    "We will apply the forward-selection approach to the Hitters data. We wish\n",
    "to predict a baseball player’s Salary on the basis of various statistics associated with performance in the previous year."
   ]
  },
  {
   "cell_type": "code",
   "execution_count": 4,
   "id": "9402d90f-e49e-454e-a30d-4422d05d95bc",
   "metadata": {},
   "outputs": [
    {
     "data": {
      "text/html": [
       "<div>\n",
       "<style scoped>\n",
       "    .dataframe tbody tr th:only-of-type {\n",
       "        vertical-align: middle;\n",
       "    }\n",
       "\n",
       "    .dataframe tbody tr th {\n",
       "        vertical-align: top;\n",
       "    }\n",
       "\n",
       "    .dataframe thead th {\n",
       "        text-align: right;\n",
       "    }\n",
       "</style>\n",
       "<table border=\"1\" class=\"dataframe\">\n",
       "  <thead>\n",
       "    <tr style=\"text-align: right;\">\n",
       "      <th></th>\n",
       "      <th>Unnamed: 0</th>\n",
       "      <th>AtBat</th>\n",
       "      <th>Hits</th>\n",
       "      <th>HmRun</th>\n",
       "      <th>Runs</th>\n",
       "      <th>RBI</th>\n",
       "      <th>Walks</th>\n",
       "      <th>Years</th>\n",
       "      <th>CAtBat</th>\n",
       "      <th>CHits</th>\n",
       "      <th>...</th>\n",
       "      <th>CRuns</th>\n",
       "      <th>CRBI</th>\n",
       "      <th>CWalks</th>\n",
       "      <th>League</th>\n",
       "      <th>Division</th>\n",
       "      <th>PutOuts</th>\n",
       "      <th>Assists</th>\n",
       "      <th>Errors</th>\n",
       "      <th>Salary</th>\n",
       "      <th>NewLeague</th>\n",
       "    </tr>\n",
       "  </thead>\n",
       "  <tbody>\n",
       "    <tr>\n",
       "      <th>0</th>\n",
       "      <td>-Andy Allanson</td>\n",
       "      <td>293</td>\n",
       "      <td>66</td>\n",
       "      <td>1</td>\n",
       "      <td>30</td>\n",
       "      <td>29</td>\n",
       "      <td>14</td>\n",
       "      <td>1</td>\n",
       "      <td>293</td>\n",
       "      <td>66</td>\n",
       "      <td>...</td>\n",
       "      <td>30</td>\n",
       "      <td>29</td>\n",
       "      <td>14</td>\n",
       "      <td>A</td>\n",
       "      <td>E</td>\n",
       "      <td>446</td>\n",
       "      <td>33</td>\n",
       "      <td>20</td>\n",
       "      <td>NaN</td>\n",
       "      <td>A</td>\n",
       "    </tr>\n",
       "    <tr>\n",
       "      <th>1</th>\n",
       "      <td>-Alan Ashby</td>\n",
       "      <td>315</td>\n",
       "      <td>81</td>\n",
       "      <td>7</td>\n",
       "      <td>24</td>\n",
       "      <td>38</td>\n",
       "      <td>39</td>\n",
       "      <td>14</td>\n",
       "      <td>3449</td>\n",
       "      <td>835</td>\n",
       "      <td>...</td>\n",
       "      <td>321</td>\n",
       "      <td>414</td>\n",
       "      <td>375</td>\n",
       "      <td>N</td>\n",
       "      <td>W</td>\n",
       "      <td>632</td>\n",
       "      <td>43</td>\n",
       "      <td>10</td>\n",
       "      <td>475.0</td>\n",
       "      <td>N</td>\n",
       "    </tr>\n",
       "    <tr>\n",
       "      <th>2</th>\n",
       "      <td>-Alvin Davis</td>\n",
       "      <td>479</td>\n",
       "      <td>130</td>\n",
       "      <td>18</td>\n",
       "      <td>66</td>\n",
       "      <td>72</td>\n",
       "      <td>76</td>\n",
       "      <td>3</td>\n",
       "      <td>1624</td>\n",
       "      <td>457</td>\n",
       "      <td>...</td>\n",
       "      <td>224</td>\n",
       "      <td>266</td>\n",
       "      <td>263</td>\n",
       "      <td>A</td>\n",
       "      <td>W</td>\n",
       "      <td>880</td>\n",
       "      <td>82</td>\n",
       "      <td>14</td>\n",
       "      <td>480.0</td>\n",
       "      <td>A</td>\n",
       "    </tr>\n",
       "    <tr>\n",
       "      <th>3</th>\n",
       "      <td>-Andre Dawson</td>\n",
       "      <td>496</td>\n",
       "      <td>141</td>\n",
       "      <td>20</td>\n",
       "      <td>65</td>\n",
       "      <td>78</td>\n",
       "      <td>37</td>\n",
       "      <td>11</td>\n",
       "      <td>5628</td>\n",
       "      <td>1575</td>\n",
       "      <td>...</td>\n",
       "      <td>828</td>\n",
       "      <td>838</td>\n",
       "      <td>354</td>\n",
       "      <td>N</td>\n",
       "      <td>E</td>\n",
       "      <td>200</td>\n",
       "      <td>11</td>\n",
       "      <td>3</td>\n",
       "      <td>500.0</td>\n",
       "      <td>N</td>\n",
       "    </tr>\n",
       "    <tr>\n",
       "      <th>4</th>\n",
       "      <td>-Andres Galarraga</td>\n",
       "      <td>321</td>\n",
       "      <td>87</td>\n",
       "      <td>10</td>\n",
       "      <td>39</td>\n",
       "      <td>42</td>\n",
       "      <td>30</td>\n",
       "      <td>2</td>\n",
       "      <td>396</td>\n",
       "      <td>101</td>\n",
       "      <td>...</td>\n",
       "      <td>48</td>\n",
       "      <td>46</td>\n",
       "      <td>33</td>\n",
       "      <td>N</td>\n",
       "      <td>E</td>\n",
       "      <td>805</td>\n",
       "      <td>40</td>\n",
       "      <td>4</td>\n",
       "      <td>91.5</td>\n",
       "      <td>N</td>\n",
       "    </tr>\n",
       "  </tbody>\n",
       "</table>\n",
       "<p>5 rows × 21 columns</p>\n",
       "</div>"
      ],
      "text/plain": [
       "          Unnamed: 0  AtBat  Hits  HmRun  Runs  RBI  Walks  Years  CAtBat  \\\n",
       "0     -Andy Allanson    293    66      1    30   29     14      1     293   \n",
       "1        -Alan Ashby    315    81      7    24   38     39     14    3449   \n",
       "2       -Alvin Davis    479   130     18    66   72     76      3    1624   \n",
       "3      -Andre Dawson    496   141     20    65   78     37     11    5628   \n",
       "4  -Andres Galarraga    321    87     10    39   42     30      2     396   \n",
       "\n",
       "   CHits  ...  CRuns  CRBI  CWalks  League Division PutOuts  Assists  Errors  \\\n",
       "0     66  ...     30    29      14       A        E     446       33      20   \n",
       "1    835  ...    321   414     375       N        W     632       43      10   \n",
       "2    457  ...    224   266     263       A        W     880       82      14   \n",
       "3   1575  ...    828   838     354       N        E     200       11       3   \n",
       "4    101  ...     48    46      33       N        E     805       40       4   \n",
       "\n",
       "   Salary  NewLeague  \n",
       "0     NaN          A  \n",
       "1   475.0          N  \n",
       "2   480.0          A  \n",
       "3   500.0          N  \n",
       "4    91.5          N  \n",
       "\n",
       "[5 rows x 21 columns]"
      ]
     },
     "execution_count": 4,
     "metadata": {},
     "output_type": "execute_result"
    }
   ],
   "source": [
    "# Read data\n",
    "file = 'data/Hitters.csv'\n",
    "hitters = pd.read_csv(file)\n",
    "hitters.head()"
   ]
  },
  {
   "cell_type": "code",
   "execution_count": 5,
   "id": "e736e4b9-83bd-426e-8c46-f8dc4e62dbb0",
   "metadata": {},
   "outputs": [
    {
     "name": "stdout",
     "output_type": "stream",
     "text": [
      "<class 'pandas.core.frame.DataFrame'>\n",
      "RangeIndex: 322 entries, 0 to 321\n",
      "Data columns (total 20 columns):\n",
      " #   Column     Non-Null Count  Dtype  \n",
      "---  ------     --------------  -----  \n",
      " 0   AtBat      322 non-null    int64  \n",
      " 1   Hits       322 non-null    int64  \n",
      " 2   HmRun      322 non-null    int64  \n",
      " 3   Runs       322 non-null    int64  \n",
      " 4   RBI        322 non-null    int64  \n",
      " 5   Walks      322 non-null    int64  \n",
      " 6   Years      322 non-null    int64  \n",
      " 7   CAtBat     322 non-null    int64  \n",
      " 8   CHits      322 non-null    int64  \n",
      " 9   CHmRun     322 non-null    int64  \n",
      " 10  CRuns      322 non-null    int64  \n",
      " 11  CRBI       322 non-null    int64  \n",
      " 12  CWalks     322 non-null    int64  \n",
      " 13  League     322 non-null    object \n",
      " 14  Division   322 non-null    object \n",
      " 15  PutOuts    322 non-null    int64  \n",
      " 16  Assists    322 non-null    int64  \n",
      " 17  Errors     322 non-null    int64  \n",
      " 18  Salary     263 non-null    float64\n",
      " 19  NewLeague  322 non-null    object \n",
      "dtypes: float64(1), int64(16), object(3)\n",
      "memory usage: 50.4+ KB\n"
     ]
    }
   ],
   "source": [
    "hitters = hitters.drop(columns=['Unnamed: 0'])\n",
    "\n",
    "hitters.info()"
   ]
  },
  {
   "cell_type": "code",
   "execution_count": 6,
   "id": "f4002088-e40f-4c22-9d08-2b8e3ac745ce",
   "metadata": {},
   "outputs": [
    {
     "data": {
      "text/plain": [
       "AtBat         0\n",
       "Hits          0\n",
       "HmRun         0\n",
       "Runs          0\n",
       "RBI           0\n",
       "Walks         0\n",
       "Years         0\n",
       "CAtBat        0\n",
       "CHits         0\n",
       "CHmRun        0\n",
       "CRuns         0\n",
       "CRBI          0\n",
       "CWalks        0\n",
       "League        0\n",
       "Division      0\n",
       "PutOuts       0\n",
       "Assists       0\n",
       "Errors        0\n",
       "Salary       59\n",
       "NewLeague     0\n",
       "dtype: int64"
      ]
     },
     "execution_count": 6,
     "metadata": {},
     "output_type": "execute_result"
    }
   ],
   "source": [
    "# Check for NA values in the DataFrame\n",
    "na_counts = hitters.isna().sum()\n",
    "na_counts"
   ]
  },
  {
   "cell_type": "code",
   "execution_count": 7,
   "id": "fb27bc2a-85a5-471f-8aaa-35a35dac18e9",
   "metadata": {},
   "outputs": [
    {
     "name": "stdout",
     "output_type": "stream",
     "text": [
      "Salary    59\n",
      "dtype: int64\n"
     ]
    }
   ],
   "source": [
    "# Filter columns that contain NA values\n",
    "columns_with_na = na_counts[na_counts > 0]\n",
    "\n",
    "print(columns_with_na)"
   ]
  },
  {
   "cell_type": "code",
   "execution_count": 8,
   "id": "6f10f4d5-ae2c-43e4-b2d4-f5fdfe356531",
   "metadata": {},
   "outputs": [
    {
     "name": "stdout",
     "output_type": "stream",
     "text": [
      "<class 'pandas.core.frame.DataFrame'>\n",
      "Index: 263 entries, 1 to 321\n",
      "Data columns (total 20 columns):\n",
      " #   Column     Non-Null Count  Dtype  \n",
      "---  ------     --------------  -----  \n",
      " 0   AtBat      263 non-null    int64  \n",
      " 1   Hits       263 non-null    int64  \n",
      " 2   HmRun      263 non-null    int64  \n",
      " 3   Runs       263 non-null    int64  \n",
      " 4   RBI        263 non-null    int64  \n",
      " 5   Walks      263 non-null    int64  \n",
      " 6   Years      263 non-null    int64  \n",
      " 7   CAtBat     263 non-null    int64  \n",
      " 8   CHits      263 non-null    int64  \n",
      " 9   CHmRun     263 non-null    int64  \n",
      " 10  CRuns      263 non-null    int64  \n",
      " 11  CRBI       263 non-null    int64  \n",
      " 12  CWalks     263 non-null    int64  \n",
      " 13  League     263 non-null    object \n",
      " 14  Division   263 non-null    object \n",
      " 15  PutOuts    263 non-null    int64  \n",
      " 16  Assists    263 non-null    int64  \n",
      " 17  Errors     263 non-null    int64  \n",
      " 18  Salary     263 non-null    float64\n",
      " 19  NewLeague  263 non-null    object \n",
      "dtypes: float64(1), int64(16), object(3)\n",
      "memory usage: 43.1+ KB\n"
     ]
    }
   ],
   "source": [
    "hitters = hitters.dropna()\n",
    "\n",
    "hitters.info()"
   ]
  },
  {
   "cell_type": "code",
   "execution_count": 9,
   "id": "1fa1b64c-3e41-42f6-8fba-f0a9fa50480d",
   "metadata": {},
   "outputs": [
    {
     "data": {
      "text/plain": [
       "(263, 20)"
      ]
     },
     "execution_count": 9,
     "metadata": {},
     "output_type": "execute_result"
    }
   ],
   "source": [
    "hitters.shape"
   ]
  },
  {
   "cell_type": "code",
   "execution_count": 10,
   "id": "479c8e24-341b-4bd4-bc36-98c1c39615be",
   "metadata": {},
   "outputs": [
    {
     "data": {
      "text/html": [
       "<div>\n",
       "<style scoped>\n",
       "    .dataframe tbody tr th:only-of-type {\n",
       "        vertical-align: middle;\n",
       "    }\n",
       "\n",
       "    .dataframe tbody tr th {\n",
       "        vertical-align: top;\n",
       "    }\n",
       "\n",
       "    .dataframe thead th {\n",
       "        text-align: right;\n",
       "    }\n",
       "</style>\n",
       "<table border=\"1\" class=\"dataframe\">\n",
       "  <thead>\n",
       "    <tr style=\"text-align: right;\">\n",
       "      <th></th>\n",
       "      <th>AtBat</th>\n",
       "      <th>Hits</th>\n",
       "      <th>HmRun</th>\n",
       "      <th>Runs</th>\n",
       "      <th>RBI</th>\n",
       "      <th>Walks</th>\n",
       "      <th>Years</th>\n",
       "      <th>CAtBat</th>\n",
       "      <th>CHits</th>\n",
       "      <th>CHmRun</th>\n",
       "      <th>...</th>\n",
       "      <th>PutOuts</th>\n",
       "      <th>Assists</th>\n",
       "      <th>Errors</th>\n",
       "      <th>Salary</th>\n",
       "      <th>League_A</th>\n",
       "      <th>League_N</th>\n",
       "      <th>Division_E</th>\n",
       "      <th>Division_W</th>\n",
       "      <th>NewLeague_A</th>\n",
       "      <th>NewLeague_N</th>\n",
       "    </tr>\n",
       "  </thead>\n",
       "  <tbody>\n",
       "    <tr>\n",
       "      <th>1</th>\n",
       "      <td>315</td>\n",
       "      <td>81</td>\n",
       "      <td>7</td>\n",
       "      <td>24</td>\n",
       "      <td>38</td>\n",
       "      <td>39</td>\n",
       "      <td>14</td>\n",
       "      <td>3449</td>\n",
       "      <td>835</td>\n",
       "      <td>69</td>\n",
       "      <td>...</td>\n",
       "      <td>632</td>\n",
       "      <td>43</td>\n",
       "      <td>10</td>\n",
       "      <td>475</td>\n",
       "      <td>0</td>\n",
       "      <td>1</td>\n",
       "      <td>0</td>\n",
       "      <td>1</td>\n",
       "      <td>0</td>\n",
       "      <td>1</td>\n",
       "    </tr>\n",
       "    <tr>\n",
       "      <th>2</th>\n",
       "      <td>479</td>\n",
       "      <td>130</td>\n",
       "      <td>18</td>\n",
       "      <td>66</td>\n",
       "      <td>72</td>\n",
       "      <td>76</td>\n",
       "      <td>3</td>\n",
       "      <td>1624</td>\n",
       "      <td>457</td>\n",
       "      <td>63</td>\n",
       "      <td>...</td>\n",
       "      <td>880</td>\n",
       "      <td>82</td>\n",
       "      <td>14</td>\n",
       "      <td>480</td>\n",
       "      <td>1</td>\n",
       "      <td>0</td>\n",
       "      <td>0</td>\n",
       "      <td>1</td>\n",
       "      <td>1</td>\n",
       "      <td>0</td>\n",
       "    </tr>\n",
       "    <tr>\n",
       "      <th>3</th>\n",
       "      <td>496</td>\n",
       "      <td>141</td>\n",
       "      <td>20</td>\n",
       "      <td>65</td>\n",
       "      <td>78</td>\n",
       "      <td>37</td>\n",
       "      <td>11</td>\n",
       "      <td>5628</td>\n",
       "      <td>1575</td>\n",
       "      <td>225</td>\n",
       "      <td>...</td>\n",
       "      <td>200</td>\n",
       "      <td>11</td>\n",
       "      <td>3</td>\n",
       "      <td>500</td>\n",
       "      <td>0</td>\n",
       "      <td>1</td>\n",
       "      <td>1</td>\n",
       "      <td>0</td>\n",
       "      <td>0</td>\n",
       "      <td>1</td>\n",
       "    </tr>\n",
       "    <tr>\n",
       "      <th>4</th>\n",
       "      <td>321</td>\n",
       "      <td>87</td>\n",
       "      <td>10</td>\n",
       "      <td>39</td>\n",
       "      <td>42</td>\n",
       "      <td>30</td>\n",
       "      <td>2</td>\n",
       "      <td>396</td>\n",
       "      <td>101</td>\n",
       "      <td>12</td>\n",
       "      <td>...</td>\n",
       "      <td>805</td>\n",
       "      <td>40</td>\n",
       "      <td>4</td>\n",
       "      <td>91</td>\n",
       "      <td>0</td>\n",
       "      <td>1</td>\n",
       "      <td>1</td>\n",
       "      <td>0</td>\n",
       "      <td>0</td>\n",
       "      <td>1</td>\n",
       "    </tr>\n",
       "    <tr>\n",
       "      <th>5</th>\n",
       "      <td>594</td>\n",
       "      <td>169</td>\n",
       "      <td>4</td>\n",
       "      <td>74</td>\n",
       "      <td>51</td>\n",
       "      <td>35</td>\n",
       "      <td>11</td>\n",
       "      <td>4408</td>\n",
       "      <td>1133</td>\n",
       "      <td>19</td>\n",
       "      <td>...</td>\n",
       "      <td>282</td>\n",
       "      <td>421</td>\n",
       "      <td>25</td>\n",
       "      <td>750</td>\n",
       "      <td>1</td>\n",
       "      <td>0</td>\n",
       "      <td>0</td>\n",
       "      <td>1</td>\n",
       "      <td>1</td>\n",
       "      <td>0</td>\n",
       "    </tr>\n",
       "  </tbody>\n",
       "</table>\n",
       "<p>5 rows × 23 columns</p>\n",
       "</div>"
      ],
      "text/plain": [
       "   AtBat  Hits  HmRun  Runs  RBI  Walks  Years  CAtBat  CHits  CHmRun  ...  \\\n",
       "1    315    81      7    24   38     39     14    3449    835      69  ...   \n",
       "2    479   130     18    66   72     76      3    1624    457      63  ...   \n",
       "3    496   141     20    65   78     37     11    5628   1575     225  ...   \n",
       "4    321    87     10    39   42     30      2     396    101      12  ...   \n",
       "5    594   169      4    74   51     35     11    4408   1133      19  ...   \n",
       "\n",
       "   PutOuts  Assists  Errors  Salary  League_A  League_N  Division_E  \\\n",
       "1      632       43      10     475         0         1           0   \n",
       "2      880       82      14     480         1         0           0   \n",
       "3      200       11       3     500         0         1           1   \n",
       "4      805       40       4      91         0         1           1   \n",
       "5      282      421      25     750         1         0           0   \n",
       "\n",
       "   Division_W  NewLeague_A  NewLeague_N  \n",
       "1           1            0            1  \n",
       "2           1            1            0  \n",
       "3           0            0            1  \n",
       "4           0            0            1  \n",
       "5           1            1            0  \n",
       "\n",
       "[5 rows x 23 columns]"
      ]
     },
     "execution_count": 10,
     "metadata": {},
     "output_type": "execute_result"
    }
   ],
   "source": [
    "# Create dummy variables for qualitative features\n",
    "qual = ['League', 'Division', 'NewLeague']\n",
    "\n",
    "hitters = pd.get_dummies(hitters, columns=qual)  # Create dummy variables for the specified qualitative columns in 'qual'\n",
    "\n",
    "hitters = hitters.astype(int)                 # Convert boolean columns to 0 and 1\n",
    "\n",
    "hitters.head()"
   ]
  },
  {
   "cell_type": "markdown",
   "id": "883d6875-a9b1-4286-a183-1bd7aad50e13",
   "metadata": {},
   "source": [
    "We first choose the best model using forward selection based on Cp. This score is not built in as a metric to sklearn. We therefore define a\r\n",
    "function to compute it ourselves, and use it as a scorer. By default, sklear \r\n",
    "tries to maximize a score, hence our scoring function computes the negati e\r",
    " Cp\r\n",
    "statistic."
   ]
  },
  {
   "cell_type": "code",
   "execution_count": 11,
   "id": "ca9ffccf-b411-47fb-b265-910ef2878619",
   "metadata": {},
   "outputs": [],
   "source": [
    "def nCp(sigma2, estimator, X, Y):\n",
    "    \"\"\"\n",
    "    Calculate the Negative Cp statistic.\n",
    "    \n",
    "    Parameters:\n",
    "    sigma2 (float): The variance estimate of the error term.\n",
    "    estimator (object): A fitted model with a 'predict' method.\n",
    "    X (array-like): The feature matrix.\n",
    "    Y (array-like): The target vector.\n",
    "\n",
    "    Returns:\n",
    "    float: The Negative Cp statistic value.\n",
    "    \"\"\"\n",
    "    \n",
    "    # Get the number of observations (n) and the number of features (p) from X\n",
    "    n, p = X.shape\n",
    "    \n",
    "    # Use the estimator to predict the target values based on the feature matrix X\n",
    "    Yhat = estimator.predict(X)\n",
    "    \n",
    "    # Calculate the residual sum of squares (RSS), which is the sum of squared differences between the actual and predicted values\n",
    "    RSS = np.sum((Y - Yhat)**2)\n",
    "    \n",
    "    # Calculate and return the Negative Cp statistic, which is given by the formula:\n",
    "    # -(RSS + 2 * p * sigma2) / n\n",
    "    return -(RSS + 2 * p * sigma2) / n\n"
   ]
  },
  {
   "cell_type": "markdown",
   "id": "ff6be6ae-1b2a-4391-935b-d95f1e8fff3c",
   "metadata": {},
   "source": [
    "We need to estimate the residual variance σ2, which is the first argument in our scoring function above. We will fit the biggest model, using all the\n",
    "variables, and estimate σ2 based on its MSE."
   ]
  },
  {
   "cell_type": "code",
   "execution_count": 12,
   "id": "e3a92767-eb4c-4820-b6d2-a43a9f274cde",
   "metadata": {},
   "outputs": [],
   "source": [
    "# Fit a feature transformation model to the dataset, excluding the 'Salary' column\n",
    "design = MS(hitters.columns.drop('Salary')).fit(hitters)\n",
    "\n",
    "# Extract the target variable 'Salary' from the dataset and convert it to a NumPy array\n",
    "Y = np.array(hitters['Salary'])\n",
    "\n",
    "# Transform the dataset using the fitted transformation model to create feature matrix X\n",
    "X = design.transform(hitters)\n",
    "\n",
    "# Fit an Ordinary Least Squares (OLS) model to the transformed features (X) and target (Y)\n",
    "sigma2 = OLS(Y, X).fit().scale"
   ]
  },
  {
   "cell_type": "markdown",
   "id": "c164ac53-4229-4759-a8b8-5138093031b7",
   "metadata": {},
   "source": [
    "The function sklearn_selected() expects a scorer with just three arguments — the last three in the definition of nCp() above. We use the function\n",
    "partial() first seen in Section 5.3.3 to freeze the first argument with our\n",
    "estimate of σ2."
   ]
  },
  {
   "cell_type": "code",
   "execution_count": 13,
   "id": "2e729669-f72f-449f-b398-8688d2336d72",
   "metadata": {},
   "outputs": [],
   "source": [
    "neg_Cp = partial(nCp, sigma2)"
   ]
  },
  {
   "cell_type": "markdown",
   "id": "d456d4c8-195b-4b4a-90d8-2ce72d446fa3",
   "metadata": {},
   "source": [
    "We can now use `neg_Cp()` as a scorer for model selection.\n",
    "\n",
    "Along with a score we need to specify the search strategy. This is done through the object `Stepwise()` in the ISLP.models package. The method\n",
    "`Stepwise.first_peak()` runs forward stepwise until any further additions to the model do not result in an improvement in the evaluation score. Similarly, the method `Stepwise.fixed_steps()` runs a fixed number of steps of stepwise search."
   ]
  },
  {
   "cell_type": "code",
   "execution_count": 14,
   "id": "b5a9c655-0589-40d5-8a26-9f82fd550d34",
   "metadata": {},
   "outputs": [],
   "source": [
    "# Initialize the stepwise regression strategy\n",
    "strategy = Stepwise.first_peak(  \n",
    "    design,                      # Feature transformation model used for stepwise regression\n",
    "    direction='forward',         # Specify forward selection direction for adding features\n",
    "    max_terms=len(design.terms)  # Set the maximum number of terms to the number of features in the design\n",
    ")"
   ]
  },
  {
   "cell_type": "markdown",
   "id": "678fef87-27be-42fe-8632-754c13581fd0",
   "metadata": {},
   "source": [
    "We now fit a linear regression model with Salary as outcome using forward selection. To do so, we use the function `sklearn_selected()` from the\n",
    "sklearn_ISLP.models package. This takes a model from statsmodels along with a selected()\n",
    "search strategy and selects a model with its fit method. Without specifying a scoring argument, the score defaults to MSE, and so all 19 variables\n",
    "will be selected (output not shown)."
   ]
  },
  {
   "cell_type": "code",
   "execution_count": 15,
   "id": "d0f3bbb6-c647-420a-9857-66bb4575e0ed",
   "metadata": {},
   "outputs": [
    {
     "data": {
      "text/plain": [
       "('Assists',\n",
       " 'AtBat',\n",
       " 'CAtBat',\n",
       " 'CHits',\n",
       " 'CHmRun',\n",
       " 'CRBI',\n",
       " 'CRuns',\n",
       " 'CWalks',\n",
       " 'Division_E',\n",
       " 'Errors',\n",
       " 'Hits',\n",
       " 'HmRun',\n",
       " 'League_A',\n",
       " 'League_N',\n",
       " 'NewLeague_A',\n",
       " 'PutOuts',\n",
       " 'RBI',\n",
       " 'Runs',\n",
       " 'Walks',\n",
       " 'Years')"
      ]
     },
     "execution_count": 15,
     "metadata": {},
     "output_type": "execute_result"
    }
   ],
   "source": [
    "hitters_MSE = sklearn_selected(  # Create an instance of the sklearn_selected class using OLS and the stepwise strategy\n",
    "    OLS,                         # Ordinary Least Squares model\n",
    "    strategy                     # Stepwise selection strategy to be used\n",
    ")\n",
    "\n",
    "hitters_MSE.fit(  # Fit the sklearn_selected model to the data\n",
    "    hitters,      # Input feature matrix\n",
    "    Y             # Target variable\n",
    ")\n",
    "\n",
    "hitters_MSE.selected_state_  # Retrieve the state of the selected features from the fitted model"
   ]
  },
  {
   "cell_type": "markdown",
   "id": "00363fd9-2d00-4019-96ab-fa7c44c3a7c3",
   "metadata": {},
   "source": [
    "This is a tuple of feature names that were selected by the model as the most relevant predictors based on the MSE criterion. These are the features that contributed most to minimizing the MSE in the fitted model."
   ]
  },
  {
   "cell_type": "markdown",
   "id": "8b97c1d6-30dc-4273-bda3-0f18180feeb1",
   "metadata": {},
   "source": [
    "Using neg_Cp results in a smaller model, as expected, with just 10 variables selected."
   ]
  },
  {
   "cell_type": "code",
   "execution_count": 16,
   "id": "0029fa4e-4774-4b80-a1f2-f5c77a25536e",
   "metadata": {},
   "outputs": [
    {
     "data": {
      "text/plain": [
       "('Assists',\n",
       " 'AtBat',\n",
       " 'CAtBat',\n",
       " 'CRBI',\n",
       " 'CRuns',\n",
       " 'CWalks',\n",
       " 'Division_E',\n",
       " 'Hits',\n",
       " 'PutOuts',\n",
       " 'Walks')"
      ]
     },
     "execution_count": 16,
     "metadata": {},
     "output_type": "execute_result"
    }
   ],
   "source": [
    "hitters_Cp = sklearn_selected(  # Create an instance of the sklearn_selected class using OLS, stepwise strategy, and a custom scoring function\n",
    "    OLS,                        # Ordinary Least Squares model\n",
    "    strategy,                   # Stepwise selection strategy to be used\n",
    "    scoring=neg_Cp              # Custom scoring function for evaluating model performance\n",
    ")\n",
    "\n",
    "hitters_Cp.fit(  # Fit the sklearn_selected model to the data\n",
    "    hitters,     # Input feature matrix\n",
    "    Y            # Target variable\n",
    ")\n",
    "\n",
    "hitters_Cp.selected_state_  # Retrieve the state of the selected features from the fitted model"
   ]
  },
  {
   "cell_type": "markdown",
   "id": "94714a38-f9a9-413d-9cb0-e54ef5a09544",
   "metadata": {},
   "source": [
    "This tuple contains the names of the features that were selected by the model as the most relevant predictors based on the Cp statistic criterion. These features are considered the most important for the model according to the custom scoring function used."
   ]
  },
  {
   "cell_type": "markdown",
   "id": "b0125cc9-264a-4880-b6ad-29b7387330ed",
   "metadata": {},
   "source": [
    "#### Choosing Among Models Using the Validation Set Approach and Cross-Validation\n",
    "\n",
    "As an alternative to using Cp, we might try cross-validation to select a model in forward selection. For this, we need a method that stores the\r\n",
    "full path of models found in forward selection, and allows predictions for each of these. This can be done with the `sklearn_selection_path()` estimator from ISLP.models. The function `cross_val_predict()` from ISLP.models computes the cross-validated predictions for each of the models along the path, which we can use to evaluate the cross-validated MSE along the path.\r\n",
    "\r\n",
    "Here we define a strategy that fits the full forward selection path. While there are various parameter choices for `sklearn_selection_path()`, we use\r\n",
    "the defaults here, which selects the model at each step based on the biggestreduction in RSS.uction in RSS."
   ]
  },
  {
   "cell_type": "code",
   "execution_count": 17,
   "id": "685e6786-8c09-4773-a83b-aff1ff001003",
   "metadata": {},
   "outputs": [],
   "source": [
    "strategy = Stepwise.fixed_steps(\n",
    "    design,               # The design matrix for the regression model, which includes all features\n",
    "    len(design.terms),    # The total number of features to consider in the selection process\n",
    "    direction='forward'   # Direction of feature selection: 'forward' means adding features one by one\n",
    ")\n",
    "\n",
    "full_path = sklearn_selection_path(\n",
    "    OLS,                   # The Ordinary Least Squares model to be used for regression\n",
    "    strategy               # The stepwise selection strategy defined above\n",
    ")"
   ]
  },
  {
   "cell_type": "markdown",
   "id": "0f1fc30a-ade4-4f72-ba6c-a89b7c889d00",
   "metadata": {},
   "source": [
    "We now fit the full forward-selection path on the Hitters data and compute the fitted values."
   ]
  },
  {
   "cell_type": "code",
   "execution_count": 18,
   "id": "87da94df-10b8-4d9d-bc3a-c9c0960bc8d3",
   "metadata": {},
   "outputs": [
    {
     "data": {
      "text/plain": [
       "(263, 23)"
      ]
     },
     "execution_count": 18,
     "metadata": {},
     "output_type": "execute_result"
    }
   ],
   "source": [
    "full_path.fit(hitters, Y)             # Fit the model selection path to the data using the Hitters dataset and target variable Y\n",
    "Yhat_in = full_path.predict(hitters)  # Predict target values using the fitted model and the Hitters dataset\n",
    "Yhat_in.shape                         # Get the shape of the predicted values array"
   ]
  },
  {
   "cell_type": "markdown",
   "id": "ae0db2c1-a0d8-4332-a45b-b84dabb881c0",
   "metadata": {},
   "source": [
    "This gives us an array of fitted values — 20 steps in all, including the\n",
    "fitted mean for the null model — which we can use to evaluate in-sample\n",
    "MSE. As expected, the in-sample MSE improves each step we take, indicating we must use either the validation or cross-validation approach to select\n",
    "the number of steps. We fix the y-axis to range from 50,000 to 250,000\n",
    "to compare to the cross-validation and validation set MSE below, as well\n",
    "as other methods such as ridge regression, lasso and principal components\n",
    "regression."
   ]
  },
  {
   "cell_type": "code",
   "execution_count": 20,
   "id": "138c44de-5508-40b4-8fa2-eba0563cb02a",
   "metadata": {},
   "outputs": [
    {
     "data": {
      "text/plain": [
       "(50000.0, 250000.0)"
      ]
     },
     "execution_count": 20,
     "metadata": {},
     "output_type": "execute_result"
    },
    {
     "data": {
      "image/png": "[encoded data removed]",
      "text/plain": [
       "<Figure size 800x800 with 1 Axes>"
      ]
     },
     "metadata": {},
     "output_type": "display_data"
    }
   ],
   "source": [
    "mse_fig, ax = subplots(figsize=(8, 8))              # Create a figure and axis for plotting with a specified figure size of 8x8 inches\n",
    "insample_mse = ((Yhat_in - Y[:, None])**2).mean(0)  # Compute the mean squared error (MSE) for each step of the forward stepwise selection\n",
    "n_steps = insample_mse.shape[0]                     # Determine the number of steps in the forward stepwise process\n",
    "ax.plot(\n",
    "    np.arange(n_steps),  # X-axis: range of steps\n",
    "    insample_mse,        # Y-axis: MSE values\n",
    "    'k',                 # Color: black\n",
    "    label='In-sample'    # Label for the plot\n",
    ")\n",
    "ax.set_ylabel(\n",
    "    'MSE',               # Y-axis label\n",
    "    fontsize=20          # Font size for the Y-axis label\n",
    ")\n",
    "ax.set_xlabel(\n",
    "    '# steps of forward stepwise',  # X-axis label\n",
    "    fontsize=20                     # Font size for the X-axis label\n",
    ")\n",
    "ax.set_xticks(np.arange(n_steps)[::2])  # Set X-axis ticks to show every other step\n",
    "ax.legend()                             # Display the legend for the plot\n",
    "ax.set_ylim([50000, 250000]);           # Set the Y-axis limits to range from 50,000 to 250,000"
   ]
  },
  {
   "cell_type": "markdown",
   "id": "25a4a454-5258-4768-a711-b85bfa78a42c",
   "metadata": {},
   "source": [
    "Notice the expression None in Y[:,None] above. This adds an axis (dimension) to the one-dimensional array Y, which allows it to be recycled when\n",
    "subtracted from the two-dimensional Yhat_in.\n",
    "\n",
    "We are now ready to use cross-validation to estimate test error along\n",
    "the model path. We must use only the training observations to perform\n",
    "all aspects of model-fitting — including variable selection. Therefore, the\n",
    "determination of which model of a given size is best must be made using\n",
    "only the training observations in each training fold. This point is subtle but\n",
    "important. If the full data set is used to select the best subset at each step,\n",
    "then the validation set errors and cross-validation errors that we obtain\n",
    "will not be accurate estimates of the test error.\n",
    "\n",
    "We now compute the cross-validated predicted values using 5-fold crossvalidation."
   ]
  },
  {
   "cell_type": "code",
   "execution_count": 21,
   "id": "93f99e6e-1147-480f-95d6-080ea17101fb",
   "metadata": {},
   "outputs": [
    {
     "data": {
      "text/plain": [
       "(263, 23)"
      ]
     },
     "execution_count": 21,
     "metadata": {},
     "output_type": "execute_result"
    }
   ],
   "source": [
    "K = 5                # Number of folds for cross-validation\n",
    "\n",
    "kfold = skm.KFold(\n",
    "    K,               # Number of splits (folds)\n",
    "    random_state=0,  # Seed for random number generator to ensure reproducibility\n",
    "    shuffle=True     # Whether to shuffle the data before splitting into batches\n",
    ")\n",
    "Yhat_cv = skm.cross_val_predict(\n",
    "    full_path,       # Model selection path to be evaluated\n",
    "    hitters,         # Input feature matrix\n",
    "    Y,               # Target variable\n",
    "    cv=kfold         # Cross-validation strategy\n",
    ")\n",
    "Yhat_cv.shape        # Get the shape of the cross-validated predictions array"
   ]
  },
  {
   "cell_type": "markdown",
   "id": "7d638aec-1554-450a-92e6-63401bdb1da5",
   "metadata": {},
   "source": [
    "The prediction matrix Yhat_cv is the same shape as Yhat_in; the difference is that the predictions in each row, corresponding to a particular sample\n",
    "index, were made from models fit on a training fold that did not include that row.\n",
    "\n",
    "At each model along the path, we compute the MSE in each of the crossvalidation folds. These we will average to get the mean MSE, and can also\n",
    "use the individual values to compute a crude estimate of the standard error of the mean. Hence we must know the test indices for each cross-validation\n",
    "split. This can be found by using the `split()` method of kfold. Because we fixed the random state above, whenever we split any array with the same\n",
    "number of rows as Y we recover the same training and test indices, though we simply ignore the training indices below."
   ]
  },
  {
   "cell_type": "code",
   "execution_count": 22,
   "id": "3c9e546a-73f6-4f94-8ec3-e1eeaa815cdc",
   "metadata": {},
   "outputs": [
    {
     "data": {
      "text/plain": [
       "(23, 5)"
      ]
     },
     "execution_count": 22,
     "metadata": {},
     "output_type": "execute_result"
    }
   ],
   "source": [
    "cv_mse = []  # Initialize an empty list to store cross-validation MSE values\n",
    "\n",
    "for train_idx, test_idx in kfold.split(Y):               # Iterate over the splits created by KFold\n",
    "    errors = (Yhat_cv[test_idx] - Y[test_idx, None])**2  # Compute squared errors for the test set\n",
    "    cv_mse.append(errors.mean(0))                        # Calculate mean squared error for each test set and append to the list\n",
    "\n",
    "cv_mse = np.array(cv_mse).T  # Convert list of MSE values to a NumPy array and transpose it\n",
    "cv_mse.shape                 # Get the shape of the cross-validation MSE array"
   ]
  },
  {
   "cell_type": "markdown",
   "id": "d90e0cbb-fb96-44ae-a979-d69f766ec236",
   "metadata": {},
   "source": [
    "We now add the cross-validation error estimates to our MSE plot. We\n",
    "include the mean error across the five folds, and the estimate of the standard\n",
    "error of the mean."
   ]
  },
  {
   "cell_type": "code",
   "execution_count": 23,
   "id": "46171b32-c351-4d55-a290-9ad9105a92e6",
   "metadata": {},
   "outputs": [
    {
     "data": {
      "image/png": "[encoded data removed]",
      "text/plain": [
       "<Figure size 800x800 with 1 Axes>"
      ]
     },
     "execution_count": 23,
     "metadata": {},
     "output_type": "execute_result"
    }
   ],
   "source": [
    "ax.errorbar(\n",
    "    np.arange(n_steps),          # X-axis values: number of steps in forward stepwise\n",
    "    cv_mse.mean(1),              # Mean cross-validated MSE values for each step\n",
    "    cv_mse.std(1) / np.sqrt(K),  # Standard error of the mean for cross-validated MSE values\n",
    "    label='Cross-validated',     # Label for the error bar plot\n",
    "    c='r'                        # Color of the error bars: red\n",
    ") \n",
    "ax.set_ylim([50000, 250000])  # Set the y-axis limits for the plot\n",
    "ax.legend()                   # Display the legend for the plot\n",
    "mse_fig                       # Display the figure with the error bars"
   ]
  },
  {
   "cell_type": "markdown",
   "id": "2cd5ec17-f478-4231-a10b-089b16a52721",
   "metadata": {},
   "source": [
    "To repeat the above using the validation set approach, we simply change\n",
    "our cv argument to a validation set: one random split of the data into a\n",
    "test and training. We choose a test size of 20%, similar to the size of each\n",
    "test set in 5-fold cross-validation."
   ]
  },
  {
   "cell_type": "code",
   "execution_count": 25,
   "id": "33198c62-71c5-4b47-9efa-ce31d2925287",
   "metadata": {},
   "outputs": [],
   "source": [
    "validation = skm.ShuffleSplit(  # Create a ShuffleSplit object for validation\n",
    "    n_splits=1,                 # Number of re-shuffling and splitting iterations\n",
    "    test_size=0.2,              # Proportion of the data to include in the test split\n",
    "    random_state=0              # Seed for the random number generator\n",
    ")\n",
    "\n",
    "# Iterate over the train-test splits generated by ShuffleSplit\n",
    "for train_idx, test_idx in validation.split(Y):\n",
    "    \n",
    "    # Fit the model on the training data\n",
    "    full_path.fit(hitters.iloc[train_idx],  # Training feature matrix\n",
    "                  Y[train_idx])             # Training target variable\n",
    "    \n",
    "    # Predict on the validation data\n",
    "    Yhat_val = full_path.predict(hitters.iloc[test_idx])  # Predicted values on the test set\n",
    "    \n",
    "    # Calculate the mean squared error (MSE) for the validation predictions\n",
    "    errors = (Yhat_val - Y[test_idx, None])**2    # Squared errors between predictions and actual values\n",
    "    validation_mse = errors.mean(0)               # Mean MSE across all features"
   ]
  },
  {
   "cell_type": "markdown",
   "id": "9b50e6e9-6b27-41a0-ae29-55bbd6b6966c",
   "metadata": {},
   "source": [
    "As for the in-sample MSE case, the validation set approach does not provide standard errors."
   ]
  },
  {
   "cell_type": "code",
   "execution_count": 26,
   "id": "d0a7067b-1d30-4326-b1f0-a071e516f1c9",
   "metadata": {},
   "outputs": [
    {
     "data": {
      "image/png": "[encoded data removed]",
      "text/plain": [
       "<Figure size 800x800 with 1 Axes>"
      ]
     },
     "execution_count": 26,
     "metadata": {},
     "output_type": "execute_result"
    }
   ],
   "source": [
    "ax.plot(np.arange(n_steps),   # X-axis: number of steps\n",
    "        validation_mse,       # Y-axis: validation mean squared error\n",
    "        'b--',                # Line style: blue dashed line\n",
    "        label='Validation')   # Label for the validation curve in the legend\n",
    "\n",
    "# Set x-axis ticks to every other step\n",
    "ax.set_xticks(np.arange(n_steps)[::2])\n",
    "\n",
    "# Set y-axis limits for the plot\n",
    "ax.set_ylim([50000, 250000])\n",
    "\n",
    "# Add a legend to the plot\n",
    "ax.legend()\n",
    "\n",
    "# Display the figure\n",
    "mse_fig"
   ]
  },
  {
   "cell_type": "markdown",
   "id": "e513b390-7926-4181-beab-b43eef555003",
   "metadata": {},
   "source": [
    "#### Best Subset Selection\n",
    "Forward stepwise is a greedy selection procedure; at each step it augments\n",
    "the current set by including one additional variable. We now apply best\n",
    "subset selection to the Hitters data, which for every subset size, searches\n",
    "for the best set of predictors.\n",
    "\n",
    "We will use a package called l0bnb to perform best subset selection.\n",
    "Instead of constraining the subset to be a given size, this package produces a\n",
    "path of solutions using the subset size as a penalty rather than a constraint.\n",
    "Although the distinction is subtle, the difference comes when we cross-validate."
   ]
  },
  {
   "cell_type": "code",
   "execution_count": 28,
   "id": "1544e0d1-24cf-436d-923a-e68fd7f91c14",
   "metadata": {},
   "outputs": [],
   "source": [
    "D = design.fit_transform(hitters)  # Apply the design matrix transformation to the Hitters dataset\n",
    "\n",
    "D = D.drop('intercept', axis=1)    # Drop the 'intercept' column from the transformed design matrix\n",
    "\n",
    "X = np.asarray(D)                  # Convert the DataFrame to a NumPy array"
   ]
  },
  {
   "cell_type": "markdown",
   "id": "53fe9174-d329-4705-83f2-9605d615dbfe",
   "metadata": {},
   "source": [
    "Here we excluded the first column corresponding to the intercept, as l0bnb\n",
    "will fit the intercept separately. We can find a path using the `fit_path()`\n",
    "function."
   ]
  },
  {
   "cell_type": "code",
   "execution_count": 29,
   "id": "f06b20b1-c140-4f60-a405-cd8698820c95",
   "metadata": {},
   "outputs": [
    {
     "name": "stdout",
     "output_type": "stream",
     "text": [
      "Preprocessing Data.\n",
      "BnB Started.\n",
      "Iteration: 1. Number of non-zeros:  1\n",
      "Iteration: 2. Number of non-zeros:  2\n",
      "Iteration: 3. Number of non-zeros:  2\n",
      "Iteration: 4. Number of non-zeros:  2\n",
      "Iteration: 5. Number of non-zeros:  3\n",
      "Iteration: 6. Number of non-zeros:  3\n",
      "Iteration: 7. Number of non-zeros:  4\n",
      "Iteration: 8. Number of non-zeros:  9\n",
      "Iteration: 9. Number of non-zeros:  19\n",
      "Iteration: 10. Number of non-zeros:  22\n"
     ]
    }
   ],
   "source": [
    "path = fit_path(\n",
    "    X,                        # Input feature matrix\n",
    "    Y,                        # Target variable\n",
    "    max_nonzeros=X.shape[1]   # Maximum number of non-zero coefficients to consider in the path\n",
    ")"
   ]
  },
  {
   "cell_type": "markdown",
   "id": "0ab2d037-2984-4245-b22f-dc00e19f59bc",
   "metadata": {},
   "source": [
    "The function `fit_path()` returns a list whose values include the fitted coefficients as B, an intercept as B0, as well as a few other attributes related to the particular path algorithm used."
   ]
  },
  {
   "cell_type": "code",
   "execution_count": 30,
   "id": "ad9d6b70-7b30-461d-8a29-d048e5796d50",
   "metadata": {},
   "outputs": [
    {
     "data": {
      "text/plain": [
       "{'B': array([0.        , 3.25500932, 0.        , 0.        , 0.        ,\n",
       "        0.        , 0.        , 0.        , 0.        , 0.        ,\n",
       "        0.        , 0.67766637, 0.        , 0.        , 0.        ,\n",
       "        0.        , 0.        , 0.        , 0.        , 0.        ,\n",
       "        0.        , 0.        ]),\n",
       " 'B0': -39.045691558997305,\n",
       " 'lambda_0': 0.01141749374070153,\n",
       " 'M': 0.5829383246254924,\n",
       " 'Time_exceeded': False}"
      ]
     },
     "execution_count": 30,
     "metadata": {},
     "output_type": "execute_result"
    }
   ],
   "source": [
    "path[3]  # Accesses the fourth element in the path"
   ]
  },
  {
   "cell_type": "markdown",
   "id": "fd9b305b-230d-4d72-8576-d03038b75603",
   "metadata": {},
   "source": [
    "In the example above, we see that at the fourth step in the path, we have\n",
    "two nonzero coefficients in 'B', corresponding to the value 0.114 for the\n",
    "penalty parameter lambda_0. We could make predictions using this sequence\n",
    "of fits on a validation set as a function of lambda_0, or with more work using\n",
    "cross-validation."
   ]
  },
  {
   "cell_type": "code",
   "execution_count": 36,
   "id": "2fb1eaa0-0a0f-4da1-879c-79c8d34bf822",
   "metadata": {},
   "outputs": [
    {
     "data": {
      "text/plain": [
       "(22, 100)"
      ]
     },
     "execution_count": 36,
     "metadata": {},
     "output_type": "execute_result"
    }
   ],
   "source": [
    "from sklearn.linear_model import ElasticNet\n",
    "\n",
    "# Standardize X\n",
    "s = X - X.mean(0)[None,:]\n",
    "X_scale = X.std(0)\n",
    "Xs = s / X_scale[None,:]\n",
    "\n",
    "# Define lambdas\n",
    "lambdas = 10**np.linspace(8, -2, 100) / Y.std()\n",
    "\n",
    "# Perform ElasticNet path with L1 regularization (e.g., l1_ratio=0.5)\n",
    "soln_array = ElasticNet(l1_ratio=0.5, max_iter=10000).path(Xs, Y, alphas=lambdas)[1]\n",
    "\n",
    "# Check shape of solution array\n",
    "soln_array.shape\n"
   ]
  },
  {
   "cell_type": "code",
   "execution_count": 37,
   "id": "6a3f5397-a9d3-4aae-b273-7921d14e73ee",
   "metadata": {},
   "outputs": [
    {
     "data": {
      "text/plain": [
       "(22, 100)"
      ]
     },
     "execution_count": 37,
     "metadata": {},
     "output_type": "execute_result"
    }
   ],
   "source": [
    "from sklearn.linear_model import ElasticNet\n",
    "\n",
    "# Standardize X\n",
    "s = X - X.mean(0)[None,:]\n",
    "X_scale = X.std(0)\n",
    "Xs = s / X_scale[None,:]\n",
    "\n",
    "# Define lambdas\n",
    "lambdas = 10**np.linspace(8, -2, 100) / Y.std()\n",
    "\n",
    "# Create ElasticNet object with increased number of iterations\n",
    "elastic_net = ElasticNet(l1_ratio=0.5, max_iter=10000)  # Increased max_iter\n",
    "\n",
    "# Perform ElasticNet path\n",
    "soln_array = elastic_net.path(Xs, Y, alphas=lambdas)[1]\n",
    "\n",
    "# Check shape of solution array\n",
    "soln_array.shape"
   ]
  },
  {
   "cell_type": "markdown",
   "id": "515df9cf-b6a6-4f15-b47b-93a911642d95",
   "metadata": {},
   "source": [
    "Here we extract the array of coefficients corresponding to the solutions along the regularization path.\n",
    "By default the `skl.ElasticNet.path` method fits a path along\n",
    "an automatically selected range of $\\lambda$ values, except for the case when\n",
    "`l1_ratio=0`, which results in ridge regression (as is the case here). {The reason is rather technical; for all models except ridge, we can find the smallest value of $\\lambda$ for which all coefficients are zero. For ridge this value is $\\infty$.}  So here\n",
    "we have chosen to implement the function over a grid of values ranging\n",
    "from $\\lambda=10^{8}$ to $\\lambda=10^{-2}$ scaled by the standard\n",
    "deviation of $y$, essentially covering the full range of scenarios\n",
    "from the null model containing only the intercept, to the least\n",
    "squares fit.\n",
    "\n",
    "Associated with each value of $\\lambda$ is a vector of ridge\n",
    "regression coefficients,   that can be accessed by\n",
    "a column of `soln_array`. In this case, `soln_array` is a $19 \\times 100$ matrix, with\n",
    "19 rows (one for each predictor) and 100\n",
    "columns (one for each value of $\\lambda$).\n",
    "\n",
    "We transpose this matrix and turn it into a data frame to facilitate viewing and plotting."
   ]
  },
  {
   "cell_type": "code",
   "execution_count": 38,
   "id": "45271ad1-c208-445c-8a5d-9f5146fa0542",
   "metadata": {},
   "outputs": [
    {
     "data": {
      "text/html": [
       "<div>\n",
       "<style scoped>\n",
       "    .dataframe tbody tr th:only-of-type {\n",
       "        vertical-align: middle;\n",
       "    }\n",
       "\n",
       "    .dataframe tbody tr th {\n",
       "        vertical-align: top;\n",
       "    }\n",
       "\n",
       "    .dataframe thead th {\n",
       "        text-align: right;\n",
       "    }\n",
       "</style>\n",
       "<table border=\"1\" class=\"dataframe\">\n",
       "  <thead>\n",
       "    <tr style=\"text-align: right;\">\n",
       "      <th></th>\n",
       "      <th>AtBat</th>\n",
       "      <th>Hits</th>\n",
       "      <th>HmRun</th>\n",
       "      <th>Runs</th>\n",
       "      <th>RBI</th>\n",
       "      <th>Walks</th>\n",
       "      <th>Years</th>\n",
       "      <th>CAtBat</th>\n",
       "      <th>CHits</th>\n",
       "      <th>CHmRun</th>\n",
       "      <th>...</th>\n",
       "      <th>CWalks</th>\n",
       "      <th>PutOuts</th>\n",
       "      <th>Assists</th>\n",
       "      <th>Errors</th>\n",
       "      <th>League_A</th>\n",
       "      <th>League_N</th>\n",
       "      <th>Division_E</th>\n",
       "      <th>Division_W</th>\n",
       "      <th>NewLeague_A</th>\n",
       "      <th>NewLeague_N</th>\n",
       "    </tr>\n",
       "    <tr>\n",
       "      <th>negative log(lambda)</th>\n",
       "      <th></th>\n",
       "      <th></th>\n",
       "      <th></th>\n",
       "      <th></th>\n",
       "      <th></th>\n",
       "      <th></th>\n",
       "      <th></th>\n",
       "      <th></th>\n",
       "      <th></th>\n",
       "      <th></th>\n",
       "      <th></th>\n",
       "      <th></th>\n",
       "      <th></th>\n",
       "      <th></th>\n",
       "      <th></th>\n",
       "      <th></th>\n",
       "      <th></th>\n",
       "      <th></th>\n",
       "      <th></th>\n",
       "      <th></th>\n",
       "      <th></th>\n",
       "    </tr>\n",
       "  </thead>\n",
       "  <tbody>\n",
       "    <tr>\n",
       "      <th>-12.310900</th>\n",
       "      <td>0.000000</td>\n",
       "      <td>0.000000</td>\n",
       "      <td>0.000000</td>\n",
       "      <td>0.000000</td>\n",
       "      <td>0.000000</td>\n",
       "      <td>0.000000</td>\n",
       "      <td>0.000000</td>\n",
       "      <td>0.000000</td>\n",
       "      <td>0.000000</td>\n",
       "      <td>0.000000</td>\n",
       "      <td>...</td>\n",
       "      <td>0.000000</td>\n",
       "      <td>0.000000</td>\n",
       "      <td>0.000000</td>\n",
       "      <td>-0.000000</td>\n",
       "      <td>0.000000</td>\n",
       "      <td>-0.000000</td>\n",
       "      <td>0.000000</td>\n",
       "      <td>-0.000000</td>\n",
       "      <td>0.000000</td>\n",
       "      <td>-0.000000</td>\n",
       "    </tr>\n",
       "    <tr>\n",
       "      <th>-12.078316</th>\n",
       "      <td>0.000000</td>\n",
       "      <td>0.000000</td>\n",
       "      <td>0.000000</td>\n",
       "      <td>0.000000</td>\n",
       "      <td>0.000000</td>\n",
       "      <td>0.000000</td>\n",
       "      <td>0.000000</td>\n",
       "      <td>0.000000</td>\n",
       "      <td>0.000000</td>\n",
       "      <td>0.000000</td>\n",
       "      <td>...</td>\n",
       "      <td>0.000000</td>\n",
       "      <td>0.000000</td>\n",
       "      <td>0.000000</td>\n",
       "      <td>-0.000000</td>\n",
       "      <td>0.000000</td>\n",
       "      <td>-0.000000</td>\n",
       "      <td>0.000000</td>\n",
       "      <td>-0.000000</td>\n",
       "      <td>0.000000</td>\n",
       "      <td>-0.000000</td>\n",
       "    </tr>\n",
       "    <tr>\n",
       "      <th>-11.845732</th>\n",
       "      <td>0.000000</td>\n",
       "      <td>0.000000</td>\n",
       "      <td>0.000000</td>\n",
       "      <td>0.000000</td>\n",
       "      <td>0.000000</td>\n",
       "      <td>0.000000</td>\n",
       "      <td>0.000000</td>\n",
       "      <td>0.000000</td>\n",
       "      <td>0.000000</td>\n",
       "      <td>0.000000</td>\n",
       "      <td>...</td>\n",
       "      <td>0.000000</td>\n",
       "      <td>0.000000</td>\n",
       "      <td>0.000000</td>\n",
       "      <td>-0.000000</td>\n",
       "      <td>0.000000</td>\n",
       "      <td>-0.000000</td>\n",
       "      <td>0.000000</td>\n",
       "      <td>-0.000000</td>\n",
       "      <td>0.000000</td>\n",
       "      <td>-0.000000</td>\n",
       "    </tr>\n",
       "    <tr>\n",
       "      <th>-11.613147</th>\n",
       "      <td>0.000000</td>\n",
       "      <td>0.000000</td>\n",
       "      <td>0.000000</td>\n",
       "      <td>0.000000</td>\n",
       "      <td>0.000000</td>\n",
       "      <td>0.000000</td>\n",
       "      <td>0.000000</td>\n",
       "      <td>0.000000</td>\n",
       "      <td>0.000000</td>\n",
       "      <td>0.000000</td>\n",
       "      <td>...</td>\n",
       "      <td>0.000000</td>\n",
       "      <td>0.000000</td>\n",
       "      <td>0.000000</td>\n",
       "      <td>-0.000000</td>\n",
       "      <td>0.000000</td>\n",
       "      <td>-0.000000</td>\n",
       "      <td>0.000000</td>\n",
       "      <td>-0.000000</td>\n",
       "      <td>0.000000</td>\n",
       "      <td>-0.000000</td>\n",
       "    </tr>\n",
       "    <tr>\n",
       "      <th>-11.380563</th>\n",
       "      <td>0.000000</td>\n",
       "      <td>0.000000</td>\n",
       "      <td>0.000000</td>\n",
       "      <td>0.000000</td>\n",
       "      <td>0.000000</td>\n",
       "      <td>0.000000</td>\n",
       "      <td>0.000000</td>\n",
       "      <td>0.000000</td>\n",
       "      <td>0.000000</td>\n",
       "      <td>0.000000</td>\n",
       "      <td>...</td>\n",
       "      <td>0.000000</td>\n",
       "      <td>0.000000</td>\n",
       "      <td>0.000000</td>\n",
       "      <td>-0.000000</td>\n",
       "      <td>0.000000</td>\n",
       "      <td>-0.000000</td>\n",
       "      <td>0.000000</td>\n",
       "      <td>-0.000000</td>\n",
       "      <td>0.000000</td>\n",
       "      <td>-0.000000</td>\n",
       "    </tr>\n",
       "    <tr>\n",
       "      <th>...</th>\n",
       "      <td>...</td>\n",
       "      <td>...</td>\n",
       "      <td>...</td>\n",
       "      <td>...</td>\n",
       "      <td>...</td>\n",
       "      <td>...</td>\n",
       "      <td>...</td>\n",
       "      <td>...</td>\n",
       "      <td>...</td>\n",
       "      <td>...</td>\n",
       "      <td>...</td>\n",
       "      <td>...</td>\n",
       "      <td>...</td>\n",
       "      <td>...</td>\n",
       "      <td>...</td>\n",
       "      <td>...</td>\n",
       "      <td>...</td>\n",
       "      <td>...</td>\n",
       "      <td>...</td>\n",
       "      <td>...</td>\n",
       "      <td>...</td>\n",
       "    </tr>\n",
       "    <tr>\n",
       "      <th>9.784613</th>\n",
       "      <td>-290.967472</td>\n",
       "      <td>337.458072</td>\n",
       "      <td>37.640511</td>\n",
       "      <td>-60.183861</td>\n",
       "      <td>-26.825474</td>\n",
       "      <td>134.954201</td>\n",
       "      <td>-16.952538</td>\n",
       "      <td>-389.429920</td>\n",
       "      <td>88.056647</td>\n",
       "      <td>-13.287431</td>\n",
       "      <td>...</td>\n",
       "      <td>-213.412238</td>\n",
       "      <td>78.764113</td>\n",
       "      <td>53.674524</td>\n",
       "      <td>-22.175083</td>\n",
       "      <td>-15.610440</td>\n",
       "      <td>15.638356</td>\n",
       "      <td>29.163984</td>\n",
       "      <td>-29.253683</td>\n",
       "      <td>6.134334</td>\n",
       "      <td>-6.249484</td>\n",
       "    </tr>\n",
       "    <tr>\n",
       "      <th>10.017198</th>\n",
       "      <td>-290.995805</td>\n",
       "      <td>337.552081</td>\n",
       "      <td>37.695968</td>\n",
       "      <td>-60.269795</td>\n",
       "      <td>-26.876408</td>\n",
       "      <td>134.976938</td>\n",
       "      <td>-16.898134</td>\n",
       "      <td>-389.769485</td>\n",
       "      <td>87.754875</td>\n",
       "      <td>-13.486640</td>\n",
       "      <td>...</td>\n",
       "      <td>-213.492232</td>\n",
       "      <td>78.764124</td>\n",
       "      <td>53.686043</td>\n",
       "      <td>-22.170110</td>\n",
       "      <td>-15.609598</td>\n",
       "      <td>15.637748</td>\n",
       "      <td>29.161309</td>\n",
       "      <td>-29.251630</td>\n",
       "      <td>6.130867</td>\n",
       "      <td>-6.246886</td>\n",
       "    </tr>\n",
       "    <tr>\n",
       "      <th>10.249782</th>\n",
       "      <td>-291.018345</td>\n",
       "      <td>337.626883</td>\n",
       "      <td>37.740064</td>\n",
       "      <td>-60.338154</td>\n",
       "      <td>-26.916904</td>\n",
       "      <td>134.995014</td>\n",
       "      <td>-16.854989</td>\n",
       "      <td>-390.038033</td>\n",
       "      <td>87.513220</td>\n",
       "      <td>-13.645309</td>\n",
       "      <td>...</td>\n",
       "      <td>-213.555929</td>\n",
       "      <td>78.764136</td>\n",
       "      <td>53.695160</td>\n",
       "      <td>-22.166148</td>\n",
       "      <td>-15.608920</td>\n",
       "      <td>15.637260</td>\n",
       "      <td>29.159185</td>\n",
       "      <td>-29.250000</td>\n",
       "      <td>6.128102</td>\n",
       "      <td>-6.244817</td>\n",
       "    </tr>\n",
       "    <tr>\n",
       "      <th>10.482366</th>\n",
       "      <td>-291.036263</td>\n",
       "      <td>337.686356</td>\n",
       "      <td>37.775101</td>\n",
       "      <td>-60.392490</td>\n",
       "      <td>-26.949078</td>\n",
       "      <td>135.009377</td>\n",
       "      <td>-16.820780</td>\n",
       "      <td>-390.250494</td>\n",
       "      <td>87.320115</td>\n",
       "      <td>-13.771559</td>\n",
       "      <td>...</td>\n",
       "      <td>-213.606601</td>\n",
       "      <td>78.764148</td>\n",
       "      <td>53.702376</td>\n",
       "      <td>-22.162995</td>\n",
       "      <td>-15.608375</td>\n",
       "      <td>15.636869</td>\n",
       "      <td>29.157498</td>\n",
       "      <td>-29.248707</td>\n",
       "      <td>6.125900</td>\n",
       "      <td>-6.243170</td>\n",
       "    </tr>\n",
       "    <tr>\n",
       "      <th>10.714951</th>\n",
       "      <td>-291.050498</td>\n",
       "      <td>337.733608</td>\n",
       "      <td>37.802926</td>\n",
       "      <td>-60.435654</td>\n",
       "      <td>-26.974629</td>\n",
       "      <td>135.020782</td>\n",
       "      <td>-16.793658</td>\n",
       "      <td>-390.418635</td>\n",
       "      <td>87.166067</td>\n",
       "      <td>-13.871932</td>\n",
       "      <td>...</td>\n",
       "      <td>-213.646880</td>\n",
       "      <td>78.764158</td>\n",
       "      <td>53.708089</td>\n",
       "      <td>-22.160487</td>\n",
       "      <td>-15.607939</td>\n",
       "      <td>15.636556</td>\n",
       "      <td>29.156159</td>\n",
       "      <td>-29.247681</td>\n",
       "      <td>6.124147</td>\n",
       "      <td>-6.241861</td>\n",
       "    </tr>\n",
       "  </tbody>\n",
       "</table>\n",
       "<p>100 rows × 22 columns</p>\n",
       "</div>"
      ],
      "text/plain": [
       "                           AtBat        Hits      HmRun       Runs        RBI  \\\n",
       "negative log(lambda)                                                            \n",
       "-12.310900              0.000000    0.000000   0.000000   0.000000   0.000000   \n",
       "-12.078316              0.000000    0.000000   0.000000   0.000000   0.000000   \n",
       "-11.845732              0.000000    0.000000   0.000000   0.000000   0.000000   \n",
       "-11.613147              0.000000    0.000000   0.000000   0.000000   0.000000   \n",
       "-11.380563              0.000000    0.000000   0.000000   0.000000   0.000000   \n",
       "...                          ...         ...        ...        ...        ...   \n",
       " 9.784613            -290.967472  337.458072  37.640511 -60.183861 -26.825474   \n",
       " 10.017198           -290.995805  337.552081  37.695968 -60.269795 -26.876408   \n",
       " 10.249782           -291.018345  337.626883  37.740064 -60.338154 -26.916904   \n",
       " 10.482366           -291.036263  337.686356  37.775101 -60.392490 -26.949078   \n",
       " 10.714951           -291.050498  337.733608  37.802926 -60.435654 -26.974629   \n",
       "\n",
       "                           Walks      Years      CAtBat      CHits     CHmRun  \\\n",
       "negative log(lambda)                                                            \n",
       "-12.310900              0.000000   0.000000    0.000000   0.000000   0.000000   \n",
       "-12.078316              0.000000   0.000000    0.000000   0.000000   0.000000   \n",
       "-11.845732              0.000000   0.000000    0.000000   0.000000   0.000000   \n",
       "-11.613147              0.000000   0.000000    0.000000   0.000000   0.000000   \n",
       "-11.380563              0.000000   0.000000    0.000000   0.000000   0.000000   \n",
       "...                          ...        ...         ...        ...        ...   \n",
       " 9.784613             134.954201 -16.952538 -389.429920  88.056647 -13.287431   \n",
       " 10.017198            134.976938 -16.898134 -389.769485  87.754875 -13.486640   \n",
       " 10.249782            134.995014 -16.854989 -390.038033  87.513220 -13.645309   \n",
       " 10.482366            135.009377 -16.820780 -390.250494  87.320115 -13.771559   \n",
       " 10.714951            135.020782 -16.793658 -390.418635  87.166067 -13.871932   \n",
       "\n",
       "                      ...      CWalks    PutOuts    Assists     Errors  \\\n",
       "negative log(lambda)  ...                                                \n",
       "-12.310900            ...    0.000000   0.000000   0.000000  -0.000000   \n",
       "-12.078316            ...    0.000000   0.000000   0.000000  -0.000000   \n",
       "-11.845732            ...    0.000000   0.000000   0.000000  -0.000000   \n",
       "-11.613147            ...    0.000000   0.000000   0.000000  -0.000000   \n",
       "-11.380563            ...    0.000000   0.000000   0.000000  -0.000000   \n",
       "...                   ...         ...        ...        ...        ...   \n",
       " 9.784613             ... -213.412238  78.764113  53.674524 -22.175083   \n",
       " 10.017198            ... -213.492232  78.764124  53.686043 -22.170110   \n",
       " 10.249782            ... -213.555929  78.764136  53.695160 -22.166148   \n",
       " 10.482366            ... -213.606601  78.764148  53.702376 -22.162995   \n",
       " 10.714951            ... -213.646880  78.764158  53.708089 -22.160487   \n",
       "\n",
       "                       League_A   League_N  Division_E  Division_W  \\\n",
       "negative log(lambda)                                                 \n",
       "-12.310900             0.000000  -0.000000    0.000000   -0.000000   \n",
       "-12.078316             0.000000  -0.000000    0.000000   -0.000000   \n",
       "-11.845732             0.000000  -0.000000    0.000000   -0.000000   \n",
       "-11.613147             0.000000  -0.000000    0.000000   -0.000000   \n",
       "-11.380563             0.000000  -0.000000    0.000000   -0.000000   \n",
       "...                         ...        ...         ...         ...   \n",
       " 9.784613            -15.610440  15.638356   29.163984  -29.253683   \n",
       " 10.017198           -15.609598  15.637748   29.161309  -29.251630   \n",
       " 10.249782           -15.608920  15.637260   29.159185  -29.250000   \n",
       " 10.482366           -15.608375  15.636869   29.157498  -29.248707   \n",
       " 10.714951           -15.607939  15.636556   29.156159  -29.247681   \n",
       "\n",
       "                      NewLeague_A  NewLeague_N  \n",
       "negative log(lambda)                            \n",
       "-12.310900               0.000000    -0.000000  \n",
       "-12.078316               0.000000    -0.000000  \n",
       "-11.845732               0.000000    -0.000000  \n",
       "-11.613147               0.000000    -0.000000  \n",
       "-11.380563               0.000000    -0.000000  \n",
       "...                           ...          ...  \n",
       " 9.784613                6.134334    -6.249484  \n",
       " 10.017198               6.130867    -6.246886  \n",
       " 10.249782               6.128102    -6.244817  \n",
       " 10.482366               6.125900    -6.243170  \n",
       " 10.714951               6.124147    -6.241861  \n",
       "\n",
       "[100 rows x 22 columns]"
      ]
     },
     "execution_count": 38,
     "metadata": {},
     "output_type": "execute_result"
    }
   ],
   "source": [
    "soln_path = pd.DataFrame(soln_array.T,\n",
    "                         columns=D.columns,\n",
    "                         index=-np.log(lambdas))\n",
    "soln_path.index.name = 'negative log(lambda)'\n",
    "soln_path"
   ]
  },
  {
   "cell_type": "code",
   "execution_count": null,
   "id": "e3caa6f0-58b1-4d07-a532-170017fb008b",
   "metadata": {},
   "outputs": [],
   "source": []
  }
 ],
 "metadata": {
  "kernelspec": {
   "display_name": "Python 3 (ipykernel)",
   "language": "python",
   "name": "python3"
  },
  "language_info": {
   "codemirror_mode": {
    "name": "ipython",
    "version": 3
   },
   "file_extension": ".py",
   "mimetype": "text/x-python",
   "name": "python",
   "nbconvert_exporter": "python",
   "pygments_lexer": "ipython3",
   "version": "3.11.7"
  }
 },
 "nbformat": 4,
 "nbformat_minor": 5
}
